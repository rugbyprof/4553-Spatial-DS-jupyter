{
 "cells": [
  {
   "cell_type": "markdown",
   "metadata": {},
   "source": [
    "## Json\n",
    "To use json in python, you need to import the json library.\n",
    "The four json methods that are important:\n",
    "\n",
    "- `load` : reads a string file into a python data structure\n",
    "- `loads` : turns a json string into a python data structure\n",
    "- `dump` : write a json string to a file\n",
    "- `dumps` : turns a python data structure into a string \n",
    "\n",
    "\n",
    "Here is an example json string (in a file within this directory).\n",
    "```json\n",
    "{\n",
    "    \"squadName\": \"Super hero squad\",\n",
    "    \"homeTown\": \"Metro City\",\n",
    "    \"formed\": 2016,\n",
    "    \"secretBase\": \"Super tower\",\n",
    "    \"active\": true,\n",
    "    \"members\": [\n",
    "        {\n",
    "            \"name\": \"Molecule Man\",\n",
    "            \"age\": 29,\n",
    "            \"secretIdentity\": \"Dan Jukes\",\n",
    "            \"powers\": [\n",
    "                \"Radiation resistance\",\n",
    "                \"Turning tiny\",\n",
    "                \"Radiation blast\"\n",
    "            ]\n",
    "        },\n",
    "        {\n",
    "            \"name\": \"Madame Uppercut\",\n",
    "            \"age\": 39,\n",
    "            \"secretIdentity\": \"Jane Wilson\",\n",
    "            \"powers\": [\n",
    "                \"Million tonne punch\",\n",
    "                \"Damage resistance\",\n",
    "                \"Superhuman reflexes\"\n",
    "            ]\n",
    "        },\n",
    "        {\n",
    "            \"name\": \"Eternal Flame\",\n",
    "            \"age\": 1000000,\n",
    "            \"secretIdentity\": \"Unknown\",\n",
    "            \"powers\": [\n",
    "                \"Immortality\",\n",
    "                \"Heat Immunity\",\n",
    "                \"Inferno\",\n",
    "                \"Teleportation\",\n",
    "                \"Interdimensional travel\"\n",
    "            ]\n",
    "        }\n",
    "    ]\n",
    "}\n",
    "```"
   ]
  },
  {
   "cell_type": "code",
   "execution_count": 1,
   "metadata": {},
   "outputs": [],
   "source": [
    "import json"
   ]
  },
  {
   "cell_type": "markdown",
   "metadata": {},
   "source": [
    "### Loading Json\n",
    "\n",
    "There are two ways I will show you simply to give you examples of using both `load` and `loads`\n",
    "\n",
    "#### Example One\n",
    "- Next we open a local json file and read it into a variable called `data` which is initially just a string.\n",
    "- Then we use `json.loads` to convert the string into a python data structure (dictionary). "
   ]
  },
  {
   "cell_type": "code",
   "execution_count": 2,
   "metadata": {},
   "outputs": [],
   "source": [
    "with open(\"./squad.json\") as f:\n",
    "    data = f.read()            \n",
    "    jData = json.loads(data)    "
   ]
  },
  {
   "cell_type": "markdown",
   "metadata": {},
   "source": [
    "#### Example Two\n",
    "- You could simply use `.load()` to skip a step:"
   ]
  },
  {
   "cell_type": "code",
   "execution_count": null,
   "metadata": {},
   "outputs": [],
   "source": [
    "with open(\"./squad.json\") as f:\n",
    "    jData = json.load(f) "
   ]
  },
  {
   "cell_type": "markdown",
   "metadata": {},
   "source": [
    "### Json Keys\n",
    "\n",
    "Now we can access data from the json object using keys. But what are the keys?"
   ]
  },
  {
   "cell_type": "code",
   "execution_count": 4,
   "metadata": {},
   "outputs": [
    {
     "name": "stdout",
     "output_type": "stream",
     "text": [
      "dict_keys(['squadName', 'homeTown', 'formed', 'secretBase', 'active', 'members'])\n"
     ]
    }
   ],
   "source": [
    "print(jData.keys())"
   ]
  },
  {
   "cell_type": "markdown",
   "metadata": {},
   "source": [
    "The top level keys are listed using the `.keys()` method. But looking at the json object at the top, you can see that there are more keys than were listed. These are `sub-keys` and are used to access values in a nested object. The level of sub-keys can go down indefinitely, however decoding such objects might cause issues. \n",
    "\n",
    "To access those values under the key `members`, we could iterate over the array that it points to, or use explicit indexes to do so. I'll show you both."
   ]
  },
  {
   "cell_type": "code",
   "execution_count": 5,
   "metadata": {},
   "outputs": [
    {
     "name": "stdout",
     "output_type": "stream",
     "text": [
      "39\n",
      "29\n",
      "39\n",
      "1000000\n"
     ]
    }
   ],
   "source": [
    "print(jData[\"members\"][1][\"age\"])\n",
    "\n",
    "for member in jData[\"members\"]:\n",
    "    print(member[\"age\"])"
   ]
  },
  {
   "cell_type": "markdown",
   "metadata": {},
   "source": [
    "### Json Traversal\n",
    "\n",
    "Accessing individual items is great, but you still need to be able to traverse over your json object in order to find or process the data it contains. Below is an example of one way of traversing over the object:"
   ]
  },
  {
   "cell_type": "code",
   "execution_count": 6,
   "metadata": {},
   "outputs": [
    {
     "name": "stdout",
     "output_type": "stream",
     "text": [
      "squadName : Super hero squad\n",
      "homeTown : Metro City\n",
      "formed : 2016\n",
      "secretBase : Super tower\n",
      "active : True\n",
      " \n",
      "\tname : Molecule Man\n",
      "\tage : 29\n",
      "\tsecretIdentity : Dan Jukes\n",
      "\tpowers:\n",
      "\t\tRadiation resistance\n",
      "\t\tTurning tiny\n",
      "\t\tRadiation blast\n",
      " \n",
      "\tname : Madame Uppercut\n",
      "\tage : 39\n",
      "\tsecretIdentity : Jane Wilson\n",
      "\tpowers:\n",
      "\t\tMillion tonne punch\n",
      "\t\tDamage resistance\n",
      "\t\tSuperhuman reflexes\n",
      " \n",
      "\tname : Eternal Flame\n",
      "\tage : 1000000\n",
      "\tsecretIdentity : Unknown\n",
      "\tpowers:\n",
      "\t\tImmortality\n",
      "\t\tHeat Immunity\n",
      "\t\tInferno\n",
      "\t\tTeleportation\n",
      "\t\tInterdimensional travel\n"
     ]
    }
   ],
   "source": [
    "for k,v in jData.items():\n",
    "    if k == \"members\":\n",
    "        for hero in v:\n",
    "            print(\" \")\n",
    "            for kk,vv in hero.items():\n",
    "                if kk == \"powers\":\n",
    "                    print(\"\\tpowers:\")\n",
    "                    for power in vv:\n",
    "                        print(f\"\\t\\t{power}\")\n",
    "                    \n",
    "                else:\n",
    "                    print(f\"\\t{kk} : {vv}\")\n",
    "        \n",
    "    else:\n",
    "        print(f\"{k} : {v}\")"
   ]
  },
  {
   "cell_type": "markdown",
   "metadata": {},
   "source": [
    "### Json Searching\n",
    "\n",
    "Lets say we wanted to find a super hero that has a power that includes the word \"resistance\": "
   ]
  },
  {
   "cell_type": "code",
   "execution_count": 10,
   "metadata": {},
   "outputs": [
    {
     "name": "stdout",
     "output_type": "stream",
     "text": [
      "Molecule Man has power: Radiation resistance\n",
      "Madame Uppercut has power: Damage resistance\n"
     ]
    }
   ],
   "source": [
    "for hero in jData[\"members\"]:\n",
    "    for power in hero[\"powers\"]:\n",
    "        if 'resistance' in power:\n",
    "            print(f\"{hero['name']} has power: {power}\")"
   ]
  }
 ],
 "metadata": {
  "interpreter": {
   "hash": "aee8b7b246df8f9039afb4144a1f6fd8d2ca17a180786b69acc140d282b71a49"
  },
  "kernelspec": {
   "display_name": "Python 3 (ipykernel)",
   "language": "python",
   "name": "python3"
  },
  "language_info": {
   "codemirror_mode": {
    "name": "ipython",
    "version": 3
   },
   "file_extension": ".py",
   "mimetype": "text/x-python",
   "name": "python",
   "nbconvert_exporter": "python",
   "pygments_lexer": "ipython3",
   "version": "3.9.2"
  }
 },
 "nbformat": 4,
 "nbformat_minor": 2
}
