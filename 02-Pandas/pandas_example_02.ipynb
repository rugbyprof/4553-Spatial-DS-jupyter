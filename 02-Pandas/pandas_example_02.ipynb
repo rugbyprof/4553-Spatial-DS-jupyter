{
 "cells": [
  {
   "cell_type": "code",
   "execution_count": 2,
   "metadata": {},
   "outputs": [],
   "source": [
    "import pandas as pd      # the necessary library\n",
    "import json              # json duh\n",
    "from rich import print   # extra python package to giove std output colorful and more readable"
   ]
  },
  {
   "cell_type": "markdown",
   "metadata": {},
   "source": [
    "## Json Into DataFrame\n",
    "\n",
    "For now I want to discuss converting a json file into something a DataFrame can handle. Converting a CSV into a dataFrame is really straight forward, but Json is not really setup like a CSV. This isn't always convenient, but most data isn't typically stored in a way that makes it easy for us, but get used to it.  Much of your time in the research game will be converting data from on format to another. Whether you are removing anomalies, cleaning up bad values, or altering the format to use for a specific purpose, you will find yourself manipulating data to increase its usability for your purpose.\n",
    "\n",
    "Having said that, we need to know how to convert data into a format that can imported correctly into a DataFrame. DataFrames are extremely popular across many python libraries, and since I like json, we need to have the ability to convert a json data file to a format readable by a dataFrame.\n",
    "\n",
    "### Json\n",
    "\n",
    "Json is a string file format represented as: `key:value` pairs. It is not columnar like dataFrames expect. To fix Json data so that a pandas dataFrame can read it we need to turn all of the `key:values` into parallel lists (when and if possible). This is done by creating \"parallel arrays\" or \"parallel lists\". What is a parallel array? A parallel array is an array that uses a single index value to access data for a single entity. Look at the image below: \n",
    "\n",
    "<img src=\"./images/parallel_arrays.png\" width=\"400\">\n",
    "\n",
    "In the C++ world, we would define this as something similar to below:\n",
    "\n",
    "```cpp\n",
    "string Names[7];\n",
    "int Age[7];\n",
    "string Sex[7];\n",
    "\n",
    "// load arrays\n",
    "// then\n",
    "// To print out data for each individual:\n",
    "for(int i=0;i<7;i++){\n",
    "    cout<<Names[i]<<\" \"<<Age[i]<<\" \"<<Sex[i]<<endl;\n",
    "}\n",
    "```\n",
    "\n",
    "Index \"i\" access the data associated with the same individual, where a single \"individuals\" info is stored in three separate arrays:  `Name`, `Age`, and `Sex`, related together by index number. The array values could have been read in a variety of ways, but you must admit storing data in Json strings is pretty convenient. Look at the snippet below which is the Json version of the data above. \n",
    "```json\n",
    "{\n",
    "    \"Name\": [\n",
    "        \"Braund, Mr. Owen Harris\",\n",
    "        \"Allen, Mr. William Henry\",\n",
    "        \"Bonnell, Miss. Elizabeth\",\n",
    "    ],\n",
    "    \"Age\": [22, 35, 58],\n",
    "    \"Sex\": [\"male\", \"male\", \"female\"],\n",
    "}\n",
    "```\n",
    "\n",
    "Please note, this is not the \"typical\" way in which data is stored in a json array. More likely the above data would be stored like below which is a list of objects, where each object has the data associated with each entity:\n",
    "\n",
    "```json\n",
    "[\n",
    "    {\n",
    "        \"Name\": \"Braund, Mr. Owen Harris\",\n",
    "        \"Age\": 22,\n",
    "        \"Sex\": \"male\"\n",
    "    },\n",
    "    {\n",
    "        \"Name\": \"Allen, Mr. William Henry\",\n",
    "        \"Age\": 35,\n",
    "        \"Sex\": \"male\"\n",
    "    },\n",
    "    {\n",
    "        \"Name\": \"Bonnell, Miss. Elizabeth\",\n",
    "        \"Age\": 58,\n",
    "        \"Sex\": \"female\"\n",
    "    }\n",
    "]\n",
    "```\n",
    "\n",
    "So using a typical json \"list\" of \"objects\" like below, lets convert it into something that can be loaded by a dataFrame. \n",
    "\n",
    "#### Typical Json to DataFrame Ready\n",
    "\n",
    "When using a Python `dictionary of lists`, the dictionary keys will be used as `column headers` and the values in each list are the values placed the `columns` for the `DataFrame`. Given the following Json object, lets make it so a DataFrame can load it without issue.\n",
    "\n",
    "```json\n",
    "[\n",
    "    {\n",
    "        \"city\": \"New York\",\n",
    "        \"growth\": 4.8,\n",
    "        \"latitude\": 40.7127837,\n",
    "        \"longitude\": -74.0059413,\n",
    "        \"population\": 8405837,\n",
    "        \"rank\": 1,\n",
    "        \"state\": \"New York\"\n",
    "    },\n",
    "    {\n",
    "        \"city\": \"Los Angeles\",\n",
    "        \"growth\": 4.8,\n",
    "        \"latitude\": 34.0522342,\n",
    "        \"longitude\": -118.2436849,\n",
    "        \"population\": 3884307,\n",
    "        \"rank\": 2,\n",
    "        \"state\": \"California\"\n",
    "    },\n",
    "    {\n",
    "        \"city\": \"Chicago\",\n",
    "        \"growth\": -6.1,\n",
    "        \"latitude\": 41.8781136,\n",
    "        \"longitude\": -87.6297982,\n",
    "        \"population\": 2718782,\n",
    "        \"rank\": 3,\n",
    "        \"state\": \"Illinois\"\n",
    "    },\n",
    "    ...\n",
    "]\n",
    "```\n",
    "\n",
    "This is found [here](./cities_latlon_w_pop.json) in its full form. \n",
    "\n",
    "Let's start by loading the file:"
   ]
  },
  {
   "cell_type": "code",
   "execution_count": 3,
   "metadata": {},
   "outputs": [
    {
     "data": {
      "text/html": [
       "<pre style=\"white-space:pre;overflow-x:auto;line-height:normal;font-family:Menlo,'DejaVu Sans Mono',consolas,'Courier New',monospace\"><span style=\"color: #800080; text-decoration-color: #800080\">/Users/griffin/Dropbox/_Courses/4553-Spatial-DS/Lectures/</span><span style=\"color: #ff00ff; text-decoration-color: #ff00ff\">03_Pandas</span>\n",
       "</pre>\n"
      ],
      "text/plain": [
       "\u001b[35m/Users/griffin/Dropbox/_Courses/4553-Spatial-DS/Lectures/\u001b[0m\u001b[95m03_Pandas\u001b[0m\n"
      ]
     },
     "metadata": {},
     "output_type": "display_data"
    },
    {
     "data": {
      "text/html": [
       "<pre style=\"white-space:pre;overflow-x:auto;line-height:normal;font-family:Menlo,'DejaVu Sans Mono',consolas,'Courier New',monospace\"><span style=\"font-weight: bold\">[</span>\n",
       "    <span style=\"font-weight: bold\">{</span>\n",
       "        <span style=\"color: #008000; text-decoration-color: #008000\">'city'</span>: <span style=\"color: #008000; text-decoration-color: #008000\">'New York'</span>,\n",
       "        <span style=\"color: #008000; text-decoration-color: #008000\">'growth'</span>: <span style=\"color: #008080; text-decoration-color: #008080; font-weight: bold\">4.8</span>,\n",
       "        <span style=\"color: #008000; text-decoration-color: #008000\">'latitude'</span>: <span style=\"color: #008080; text-decoration-color: #008080; font-weight: bold\">40.7127837</span>,\n",
       "        <span style=\"color: #008000; text-decoration-color: #008000\">'longitude'</span>: <span style=\"color: #008080; text-decoration-color: #008080; font-weight: bold\">-74.0059413</span>,\n",
       "        <span style=\"color: #008000; text-decoration-color: #008000\">'population'</span>: <span style=\"color: #008080; text-decoration-color: #008080; font-weight: bold\">8405837</span>,\n",
       "        <span style=\"color: #008000; text-decoration-color: #008000\">'rank'</span>: <span style=\"color: #008080; text-decoration-color: #008080; font-weight: bold\">1</span>,\n",
       "        <span style=\"color: #008000; text-decoration-color: #008000\">'state'</span>: <span style=\"color: #008000; text-decoration-color: #008000\">'New York'</span>\n",
       "    <span style=\"font-weight: bold\">}</span>,\n",
       "    <span style=\"font-weight: bold\">{</span>\n",
       "        <span style=\"color: #008000; text-decoration-color: #008000\">'city'</span>: <span style=\"color: #008000; text-decoration-color: #008000\">'Los Angeles'</span>,\n",
       "        <span style=\"color: #008000; text-decoration-color: #008000\">'growth'</span>: <span style=\"color: #008080; text-decoration-color: #008080; font-weight: bold\">4.8</span>,\n",
       "        <span style=\"color: #008000; text-decoration-color: #008000\">'latitude'</span>: <span style=\"color: #008080; text-decoration-color: #008080; font-weight: bold\">34.0522342</span>,\n",
       "        <span style=\"color: #008000; text-decoration-color: #008000\">'longitude'</span>: <span style=\"color: #008080; text-decoration-color: #008080; font-weight: bold\">-118.2436849</span>,\n",
       "        <span style=\"color: #008000; text-decoration-color: #008000\">'population'</span>: <span style=\"color: #008080; text-decoration-color: #008080; font-weight: bold\">3884307</span>,\n",
       "        <span style=\"color: #008000; text-decoration-color: #008000\">'rank'</span>: <span style=\"color: #008080; text-decoration-color: #008080; font-weight: bold\">2</span>,\n",
       "        <span style=\"color: #008000; text-decoration-color: #008000\">'state'</span>: <span style=\"color: #008000; text-decoration-color: #008000\">'California'</span>\n",
       "    <span style=\"font-weight: bold\">}</span>,\n",
       "    <span style=\"font-weight: bold\">{</span>\n",
       "        <span style=\"color: #008000; text-decoration-color: #008000\">'city'</span>: <span style=\"color: #008000; text-decoration-color: #008000\">'Chicago'</span>,\n",
       "        <span style=\"color: #008000; text-decoration-color: #008000\">'growth'</span>: <span style=\"color: #008080; text-decoration-color: #008080; font-weight: bold\">-6.1</span>,\n",
       "        <span style=\"color: #008000; text-decoration-color: #008000\">'latitude'</span>: <span style=\"color: #008080; text-decoration-color: #008080; font-weight: bold\">41.8781136</span>,\n",
       "        <span style=\"color: #008000; text-decoration-color: #008000\">'longitude'</span>: <span style=\"color: #008080; text-decoration-color: #008080; font-weight: bold\">-87.6297982</span>,\n",
       "        <span style=\"color: #008000; text-decoration-color: #008000\">'population'</span>: <span style=\"color: #008080; text-decoration-color: #008080; font-weight: bold\">2718782</span>,\n",
       "        <span style=\"color: #008000; text-decoration-color: #008000\">'rank'</span>: <span style=\"color: #008080; text-decoration-color: #008080; font-weight: bold\">3</span>,\n",
       "        <span style=\"color: #008000; text-decoration-color: #008000\">'state'</span>: <span style=\"color: #008000; text-decoration-color: #008000\">'Illinois'</span>\n",
       "    <span style=\"font-weight: bold\">}</span>\n",
       "<span style=\"font-weight: bold\">]</span>\n",
       "</pre>\n"
      ],
      "text/plain": [
       "\u001b[1m[\u001b[0m\n",
       "    \u001b[1m{\u001b[0m\n",
       "        \u001b[32m'city'\u001b[0m: \u001b[32m'New York'\u001b[0m,\n",
       "        \u001b[32m'growth'\u001b[0m: \u001b[1;36m4.8\u001b[0m,\n",
       "        \u001b[32m'latitude'\u001b[0m: \u001b[1;36m40.7127837\u001b[0m,\n",
       "        \u001b[32m'longitude'\u001b[0m: \u001b[1;36m-74.0059413\u001b[0m,\n",
       "        \u001b[32m'population'\u001b[0m: \u001b[1;36m8405837\u001b[0m,\n",
       "        \u001b[32m'rank'\u001b[0m: \u001b[1;36m1\u001b[0m,\n",
       "        \u001b[32m'state'\u001b[0m: \u001b[32m'New York'\u001b[0m\n",
       "    \u001b[1m}\u001b[0m,\n",
       "    \u001b[1m{\u001b[0m\n",
       "        \u001b[32m'city'\u001b[0m: \u001b[32m'Los Angeles'\u001b[0m,\n",
       "        \u001b[32m'growth'\u001b[0m: \u001b[1;36m4.8\u001b[0m,\n",
       "        \u001b[32m'latitude'\u001b[0m: \u001b[1;36m34.0522342\u001b[0m,\n",
       "        \u001b[32m'longitude'\u001b[0m: \u001b[1;36m-118.2436849\u001b[0m,\n",
       "        \u001b[32m'population'\u001b[0m: \u001b[1;36m3884307\u001b[0m,\n",
       "        \u001b[32m'rank'\u001b[0m: \u001b[1;36m2\u001b[0m,\n",
       "        \u001b[32m'state'\u001b[0m: \u001b[32m'California'\u001b[0m\n",
       "    \u001b[1m}\u001b[0m,\n",
       "    \u001b[1m{\u001b[0m\n",
       "        \u001b[32m'city'\u001b[0m: \u001b[32m'Chicago'\u001b[0m,\n",
       "        \u001b[32m'growth'\u001b[0m: \u001b[1;36m-6.1\u001b[0m,\n",
       "        \u001b[32m'latitude'\u001b[0m: \u001b[1;36m41.8781136\u001b[0m,\n",
       "        \u001b[32m'longitude'\u001b[0m: \u001b[1;36m-87.6297982\u001b[0m,\n",
       "        \u001b[32m'population'\u001b[0m: \u001b[1;36m2718782\u001b[0m,\n",
       "        \u001b[32m'rank'\u001b[0m: \u001b[1;36m3\u001b[0m,\n",
       "        \u001b[32m'state'\u001b[0m: \u001b[32m'Illinois'\u001b[0m\n",
       "    \u001b[1m}\u001b[0m\n",
       "\u001b[1m]\u001b[0m\n"
      ]
     },
     "metadata": {},
     "output_type": "display_data"
    }
   ],
   "source": [
    "import os\n",
    "print(os.getcwd())\n",
    "\n",
    "with open(\"../../Resources/01_Data/cities_latlon_w_pop.json\") as f:\n",
    "    cities = json.load(f)\n",
    "\n",
    "# print first 3 cities\n",
    "print(cities[:3])"
   ]
  },
  {
   "cell_type": "markdown",
   "metadata": {},
   "source": [
    "#### Data Loaded Now Convert\n",
    "\n",
    "We loaded the data, now let's create a new Json object with the seven parallel arrays needed, one for each of the data elements. The keys are `city`, `growth`, ... `state`. I will grab them programmatically, then  create the parallel array version of the json object.\n",
    "\n"
   ]
  },
  {
   "cell_type": "code",
   "execution_count": 5,
   "metadata": {},
   "outputs": [
    {
     "data": {
      "text/html": [
       "<pre style=\"white-space:pre;overflow-x:auto;line-height:normal;font-family:Menlo,'DejaVu Sans Mono',consolas,'Courier New',monospace\"><span style=\"font-weight: bold\">{</span>\n",
       "    <span style=\"color: #008000; text-decoration-color: #008000\">'city'</span>: <span style=\"font-weight: bold\">[]</span>,\n",
       "    <span style=\"color: #008000; text-decoration-color: #008000\">'growth'</span>: <span style=\"font-weight: bold\">[]</span>,\n",
       "    <span style=\"color: #008000; text-decoration-color: #008000\">'latitude'</span>: <span style=\"font-weight: bold\">[]</span>,\n",
       "    <span style=\"color: #008000; text-decoration-color: #008000\">'longitude'</span>: <span style=\"font-weight: bold\">[]</span>,\n",
       "    <span style=\"color: #008000; text-decoration-color: #008000\">'population'</span>: <span style=\"font-weight: bold\">[]</span>,\n",
       "    <span style=\"color: #008000; text-decoration-color: #008000\">'rank'</span>: <span style=\"font-weight: bold\">[]</span>,\n",
       "    <span style=\"color: #008000; text-decoration-color: #008000\">'state'</span>: <span style=\"font-weight: bold\">[]</span>\n",
       "<span style=\"font-weight: bold\">}</span>\n",
       "</pre>\n"
      ],
      "text/plain": [
       "\u001b[1m{\u001b[0m\n",
       "    \u001b[32m'city'\u001b[0m: \u001b[1m[\u001b[0m\u001b[1m]\u001b[0m,\n",
       "    \u001b[32m'growth'\u001b[0m: \u001b[1m[\u001b[0m\u001b[1m]\u001b[0m,\n",
       "    \u001b[32m'latitude'\u001b[0m: \u001b[1m[\u001b[0m\u001b[1m]\u001b[0m,\n",
       "    \u001b[32m'longitude'\u001b[0m: \u001b[1m[\u001b[0m\u001b[1m]\u001b[0m,\n",
       "    \u001b[32m'population'\u001b[0m: \u001b[1m[\u001b[0m\u001b[1m]\u001b[0m,\n",
       "    \u001b[32m'rank'\u001b[0m: \u001b[1m[\u001b[0m\u001b[1m]\u001b[0m,\n",
       "    \u001b[32m'state'\u001b[0m: \u001b[1m[\u001b[0m\u001b[1m]\u001b[0m\n",
       "\u001b[1m}\u001b[0m\n"
      ]
     },
     "metadata": {},
     "output_type": "display_data"
    }
   ],
   "source": [
    "# grab keys from 1st entry\n",
    "keys = cities[0].keys()\n",
    "\n",
    "# create a new dictionary (synonymous with json)\n",
    "parallelCityData = {}\n",
    "\n",
    "# iterate over keys and create a list for every key\n",
    "for key in keys:\n",
    "    parallelCityData[key] = []\n",
    "\n",
    "# Note: the keys may not print in the same order you added them. \n",
    "# This is ok behavior since dictionaries are not ordered.\n",
    "print(parallelCityData)"
   ]
  },
  {
   "cell_type": "markdown",
   "metadata": {},
   "source": [
    "Now we have the new structure (parallel lists of data) , lets process the file data to load it up:"
   ]
  },
  {
   "cell_type": "code",
   "execution_count": 9,
   "metadata": {},
   "outputs": [
    {
     "data": {
      "text/html": [
       "<pre style=\"white-space:pre;overflow-x:auto;line-height:normal;font-family:Menlo,'DejaVu Sans Mono',consolas,'Courier New',monospace\"><span style=\"font-weight: bold\">[</span><span style=\"color: #008000; text-decoration-color: #008000\">'New York'</span>, <span style=\"color: #008000; text-decoration-color: #008000\">'Los Angeles'</span>, <span style=\"color: #008000; text-decoration-color: #008000\">'Chicago'</span>, <span style=\"color: #008000; text-decoration-color: #008000\">'Houston'</span>, <span style=\"color: #008000; text-decoration-color: #008000\">'Philadelphia'</span><span style=\"font-weight: bold\">]</span>\n",
       "</pre>\n"
      ],
      "text/plain": [
       "\u001b[1m[\u001b[0m\u001b[32m'New York'\u001b[0m, \u001b[32m'Los Angeles'\u001b[0m, \u001b[32m'Chicago'\u001b[0m, \u001b[32m'Houston'\u001b[0m, \u001b[32m'Philadelphia'\u001b[0m\u001b[1m]\u001b[0m\n"
      ]
     },
     "metadata": {},
     "output_type": "display_data"
    },
    {
     "data": {
      "text/html": [
       "<pre style=\"white-space:pre;overflow-x:auto;line-height:normal;font-family:Menlo,'DejaVu Sans Mono',consolas,'Courier New',monospace\"><span style=\"font-weight: bold\">[</span><span style=\"color: #008080; text-decoration-color: #008080; font-weight: bold\">4.8</span>, <span style=\"color: #008080; text-decoration-color: #008080; font-weight: bold\">4.8</span>, <span style=\"color: #008080; text-decoration-color: #008080; font-weight: bold\">-6.1</span>, <span style=\"color: #008080; text-decoration-color: #008080; font-weight: bold\">11</span>, <span style=\"color: #008080; text-decoration-color: #008080; font-weight: bold\">2.6</span><span style=\"font-weight: bold\">]</span>\n",
       "</pre>\n"
      ],
      "text/plain": [
       "\u001b[1m[\u001b[0m\u001b[1;36m4.8\u001b[0m, \u001b[1;36m4.8\u001b[0m, \u001b[1;36m-6.1\u001b[0m, \u001b[1;36m11\u001b[0m, \u001b[1;36m2.6\u001b[0m\u001b[1m]\u001b[0m\n"
      ]
     },
     "metadata": {},
     "output_type": "display_data"
    },
    {
     "data": {
      "text/html": [
       "<pre style=\"white-space:pre;overflow-x:auto;line-height:normal;font-family:Menlo,'DejaVu Sans Mono',consolas,'Courier New',monospace\"><span style=\"font-weight: bold\">[</span><span style=\"color: #008080; text-decoration-color: #008080; font-weight: bold\">40.7127837</span>, <span style=\"color: #008080; text-decoration-color: #008080; font-weight: bold\">34.0522342</span>, <span style=\"color: #008080; text-decoration-color: #008080; font-weight: bold\">41.8781136</span>, <span style=\"color: #008080; text-decoration-color: #008080; font-weight: bold\">29.7604267</span>, <span style=\"color: #008080; text-decoration-color: #008080; font-weight: bold\">39.9525839</span><span style=\"font-weight: bold\">]</span>\n",
       "</pre>\n"
      ],
      "text/plain": [
       "\u001b[1m[\u001b[0m\u001b[1;36m40.7127837\u001b[0m, \u001b[1;36m34.0522342\u001b[0m, \u001b[1;36m41.8781136\u001b[0m, \u001b[1;36m29.7604267\u001b[0m, \u001b[1;36m39.9525839\u001b[0m\u001b[1m]\u001b[0m\n"
      ]
     },
     "metadata": {},
     "output_type": "display_data"
    },
    {
     "data": {
      "text/html": [
       "<pre style=\"white-space:pre;overflow-x:auto;line-height:normal;font-family:Menlo,'DejaVu Sans Mono',consolas,'Courier New',monospace\"><span style=\"font-weight: bold\">[</span><span style=\"color: #008080; text-decoration-color: #008080; font-weight: bold\">-74.0059413</span>, <span style=\"color: #008080; text-decoration-color: #008080; font-weight: bold\">-118.2436849</span>, <span style=\"color: #008080; text-decoration-color: #008080; font-weight: bold\">-87.6297982</span>, <span style=\"color: #008080; text-decoration-color: #008080; font-weight: bold\">-95.3698028</span>, <span style=\"color: #008080; text-decoration-color: #008080; font-weight: bold\">-75.1652215</span><span style=\"font-weight: bold\">]</span>\n",
       "</pre>\n"
      ],
      "text/plain": [
       "\u001b[1m[\u001b[0m\u001b[1;36m-74.0059413\u001b[0m, \u001b[1;36m-118.2436849\u001b[0m, \u001b[1;36m-87.6297982\u001b[0m, \u001b[1;36m-95.3698028\u001b[0m, \u001b[1;36m-75.1652215\u001b[0m\u001b[1m]\u001b[0m\n"
      ]
     },
     "metadata": {},
     "output_type": "display_data"
    },
    {
     "data": {
      "text/html": [
       "<pre style=\"white-space:pre;overflow-x:auto;line-height:normal;font-family:Menlo,'DejaVu Sans Mono',consolas,'Courier New',monospace\"><span style=\"font-weight: bold\">[</span><span style=\"color: #008080; text-decoration-color: #008080; font-weight: bold\">8405837</span>, <span style=\"color: #008080; text-decoration-color: #008080; font-weight: bold\">3884307</span>, <span style=\"color: #008080; text-decoration-color: #008080; font-weight: bold\">2718782</span>, <span style=\"color: #008080; text-decoration-color: #008080; font-weight: bold\">2195914</span>, <span style=\"color: #008080; text-decoration-color: #008080; font-weight: bold\">1553165</span><span style=\"font-weight: bold\">]</span>\n",
       "</pre>\n"
      ],
      "text/plain": [
       "\u001b[1m[\u001b[0m\u001b[1;36m8405837\u001b[0m, \u001b[1;36m3884307\u001b[0m, \u001b[1;36m2718782\u001b[0m, \u001b[1;36m2195914\u001b[0m, \u001b[1;36m1553165\u001b[0m\u001b[1m]\u001b[0m\n"
      ]
     },
     "metadata": {},
     "output_type": "display_data"
    },
    {
     "data": {
      "text/html": [
       "<pre style=\"white-space:pre;overflow-x:auto;line-height:normal;font-family:Menlo,'DejaVu Sans Mono',consolas,'Courier New',monospace\"><span style=\"font-weight: bold\">[</span><span style=\"color: #008080; text-decoration-color: #008080; font-weight: bold\">1</span>, <span style=\"color: #008080; text-decoration-color: #008080; font-weight: bold\">2</span>, <span style=\"color: #008080; text-decoration-color: #008080; font-weight: bold\">3</span>, <span style=\"color: #008080; text-decoration-color: #008080; font-weight: bold\">4</span>, <span style=\"color: #008080; text-decoration-color: #008080; font-weight: bold\">5</span><span style=\"font-weight: bold\">]</span>\n",
       "</pre>\n"
      ],
      "text/plain": [
       "\u001b[1m[\u001b[0m\u001b[1;36m1\u001b[0m, \u001b[1;36m2\u001b[0m, \u001b[1;36m3\u001b[0m, \u001b[1;36m4\u001b[0m, \u001b[1;36m5\u001b[0m\u001b[1m]\u001b[0m\n"
      ]
     },
     "metadata": {},
     "output_type": "display_data"
    },
    {
     "data": {
      "text/html": [
       "<pre style=\"white-space:pre;overflow-x:auto;line-height:normal;font-family:Menlo,'DejaVu Sans Mono',consolas,'Courier New',monospace\"><span style=\"font-weight: bold\">[</span><span style=\"color: #008000; text-decoration-color: #008000\">'New York'</span>, <span style=\"color: #008000; text-decoration-color: #008000\">'California'</span>, <span style=\"color: #008000; text-decoration-color: #008000\">'Illinois'</span>, <span style=\"color: #008000; text-decoration-color: #008000\">'Texas'</span>, <span style=\"color: #008000; text-decoration-color: #008000\">'Pennsylvania'</span><span style=\"font-weight: bold\">]</span>\n",
       "</pre>\n"
      ],
      "text/plain": [
       "\u001b[1m[\u001b[0m\u001b[32m'New York'\u001b[0m, \u001b[32m'California'\u001b[0m, \u001b[32m'Illinois'\u001b[0m, \u001b[32m'Texas'\u001b[0m, \u001b[32m'Pennsylvania'\u001b[0m\u001b[1m]\u001b[0m\n"
      ]
     },
     "metadata": {},
     "output_type": "display_data"
    }
   ],
   "source": [
    "# Every loop a new city is loaded into the \"city\" variable\n",
    "for city in cities:\n",
    "\n",
    "    # Loop over the Keys that exist in our new parallel structure\n",
    "    for key in parallelCityData:\n",
    "\n",
    "        # if the key from \"parallCityData\" is in the \"city\" object\n",
    "        # then add that data element to the \"parallelCityData\" object\n",
    "        if key in city:\n",
    "            parallelCityData[key].append(city[key])\n",
    "        else:\n",
    "            parallelCityData[key].append(None)\n",
    "\n",
    "# print first five data elements in the newly formatted object\n",
    "for key in parallelCityData:\n",
    "    print(parallelCityData[key][:5])\n",
    "\n"
   ]
  },
  {
   "cell_type": "markdown",
   "metadata": {},
   "source": [
    "Now we can load it into a dataFrame with no problem! "
   ]
  },
  {
   "cell_type": "code",
   "execution_count": 10,
   "metadata": {},
   "outputs": [
    {
     "data": {
      "text/html": [
       "<pre style=\"white-space:pre;overflow-x:auto;line-height:normal;font-family:Menlo,'DejaVu Sans Mono',consolas,'Courier New',monospace\">              city  growth   latitude   longitude  population  rank  \\\n",
       "<span style=\"color: #008080; text-decoration-color: #008080; font-weight: bold\">0</span>         New York     <span style=\"color: #008080; text-decoration-color: #008080; font-weight: bold\">4.8</span>  <span style=\"color: #008080; text-decoration-color: #008080; font-weight: bold\">40.712784</span>  <span style=\"color: #008080; text-decoration-color: #008080; font-weight: bold\">-74.005941</span>     <span style=\"color: #008080; text-decoration-color: #008080; font-weight: bold\">8405837</span>     <span style=\"color: #008080; text-decoration-color: #008080; font-weight: bold\">1</span>   \n",
       "<span style=\"color: #008080; text-decoration-color: #008080; font-weight: bold\">1</span>      Los Angeles     <span style=\"color: #008080; text-decoration-color: #008080; font-weight: bold\">4.8</span>  <span style=\"color: #008080; text-decoration-color: #008080; font-weight: bold\">34.052234</span> <span style=\"color: #008080; text-decoration-color: #008080; font-weight: bold\">-118.243685</span>     <span style=\"color: #008080; text-decoration-color: #008080; font-weight: bold\">3884307</span>     <span style=\"color: #008080; text-decoration-color: #008080; font-weight: bold\">2</span>   \n",
       "<span style=\"color: #008080; text-decoration-color: #008080; font-weight: bold\">2</span>          Chicago    <span style=\"color: #008080; text-decoration-color: #008080; font-weight: bold\">-6.1</span>  <span style=\"color: #008080; text-decoration-color: #008080; font-weight: bold\">41.878114</span>  <span style=\"color: #008080; text-decoration-color: #008080; font-weight: bold\">-87.629798</span>     <span style=\"color: #008080; text-decoration-color: #008080; font-weight: bold\">2718782</span>     <span style=\"color: #008080; text-decoration-color: #008080; font-weight: bold\">3</span>   \n",
       "<span style=\"color: #008080; text-decoration-color: #008080; font-weight: bold\">3</span>          Houston    <span style=\"color: #008080; text-decoration-color: #008080; font-weight: bold\">11.0</span>  <span style=\"color: #008080; text-decoration-color: #008080; font-weight: bold\">29.760427</span>  <span style=\"color: #008080; text-decoration-color: #008080; font-weight: bold\">-95.369803</span>     <span style=\"color: #008080; text-decoration-color: #008080; font-weight: bold\">2195914</span>     <span style=\"color: #008080; text-decoration-color: #008080; font-weight: bold\">4</span>   \n",
       "<span style=\"color: #008080; text-decoration-color: #008080; font-weight: bold\">4</span>     Philadelphia     <span style=\"color: #008080; text-decoration-color: #008080; font-weight: bold\">2.6</span>  <span style=\"color: #008080; text-decoration-color: #008080; font-weight: bold\">39.952584</span>  <span style=\"color: #008080; text-decoration-color: #008080; font-weight: bold\">-75.165222</span>     <span style=\"color: #008080; text-decoration-color: #008080; font-weight: bold\">1553165</span>     <span style=\"color: #008080; text-decoration-color: #008080; font-weight: bold\">5</span>   \n",
       "<span style=\"color: #808000; text-decoration-color: #808000\">...</span>            <span style=\"color: #808000; text-decoration-color: #808000\">...</span>     <span style=\"color: #808000; text-decoration-color: #808000\">...</span>        <span style=\"color: #808000; text-decoration-color: #808000\">...</span>         <span style=\"color: #808000; text-decoration-color: #808000\">...</span>         <span style=\"color: #808000; text-decoration-color: #808000\">...</span>   <span style=\"color: #808000; text-decoration-color: #808000\">...</span>   \n",
       "<span style=\"color: #008080; text-decoration-color: #008080; font-weight: bold\">2995</span>  Spanish Fork    <span style=\"color: #008080; text-decoration-color: #008080; font-weight: bold\">78.1</span>  <span style=\"color: #008080; text-decoration-color: #008080; font-weight: bold\">40.114955</span> <span style=\"color: #008080; text-decoration-color: #008080; font-weight: bold\">-111.654923</span>       <span style=\"color: #008080; text-decoration-color: #008080; font-weight: bold\">36956</span>   <span style=\"color: #008080; text-decoration-color: #008080; font-weight: bold\">998</span>   \n",
       "<span style=\"color: #008080; text-decoration-color: #008080; font-weight: bold\">2996</span>        Beloit     <span style=\"color: #008080; text-decoration-color: #008080; font-weight: bold\">2.9</span>  <span style=\"color: #008080; text-decoration-color: #008080; font-weight: bold\">42.508348</span>  <span style=\"color: #008080; text-decoration-color: #008080; font-weight: bold\">-89.031776</span>       <span style=\"color: #008080; text-decoration-color: #008080; font-weight: bold\">36888</span>   <span style=\"color: #008080; text-decoration-color: #008080; font-weight: bold\">999</span>   \n",
       "<span style=\"color: #008080; text-decoration-color: #008080; font-weight: bold\">2997</span>   Panama City     <span style=\"color: #008080; text-decoration-color: #008080; font-weight: bold\">0.1</span>  <span style=\"color: #008080; text-decoration-color: #008080; font-weight: bold\">30.158813</span>  <span style=\"color: #008080; text-decoration-color: #008080; font-weight: bold\">-85.660206</span>       <span style=\"color: #008080; text-decoration-color: #008080; font-weight: bold\">36877</span>  <span style=\"color: #008080; text-decoration-color: #008080; font-weight: bold\">1000</span>   \n",
       "<span style=\"color: #008080; text-decoration-color: #008080; font-weight: bold\">2998</span>     Anchorage    <span style=\"color: #008080; text-decoration-color: #008080; font-weight: bold\">15.4</span>  <span style=\"color: #008080; text-decoration-color: #008080; font-weight: bold\">61.218056</span> <span style=\"color: #008080; text-decoration-color: #008080; font-weight: bold\">-149.900278</span>      <span style=\"color: #008080; text-decoration-color: #008080; font-weight: bold\">300950</span>    <span style=\"color: #008080; text-decoration-color: #008080; font-weight: bold\">63</span>   \n",
       "<span style=\"color: #008080; text-decoration-color: #008080; font-weight: bold\">2999</span>      Honolulu    <span style=\"color: #008080; text-decoration-color: #008080; font-weight: bold\">-6.2</span>  <span style=\"color: #008080; text-decoration-color: #008080; font-weight: bold\">21.306944</span> <span style=\"color: #008080; text-decoration-color: #008080; font-weight: bold\">-157.858333</span>      <span style=\"color: #008080; text-decoration-color: #008080; font-weight: bold\">347884</span>    <span style=\"color: #008080; text-decoration-color: #008080; font-weight: bold\">54</span>   \n",
       "\n",
       "             state  \n",
       "<span style=\"color: #008080; text-decoration-color: #008080; font-weight: bold\">0</span>         New York  \n",
       "<span style=\"color: #008080; text-decoration-color: #008080; font-weight: bold\">1</span>       California  \n",
       "<span style=\"color: #008080; text-decoration-color: #008080; font-weight: bold\">2</span>         Illinois  \n",
       "<span style=\"color: #008080; text-decoration-color: #008080; font-weight: bold\">3</span>            Texas  \n",
       "<span style=\"color: #008080; text-decoration-color: #008080; font-weight: bold\">4</span>     Pennsylvania  \n",
       "<span style=\"color: #808000; text-decoration-color: #808000\">...</span>            <span style=\"color: #808000; text-decoration-color: #808000\">...</span>  \n",
       "<span style=\"color: #008080; text-decoration-color: #008080; font-weight: bold\">2995</span>          Utah  \n",
       "<span style=\"color: #008080; text-decoration-color: #008080; font-weight: bold\">2996</span>     Wisconsin  \n",
       "<span style=\"color: #008080; text-decoration-color: #008080; font-weight: bold\">2997</span>       Florida  \n",
       "<span style=\"color: #008080; text-decoration-color: #008080; font-weight: bold\">2998</span>        Alaska  \n",
       "<span style=\"color: #008080; text-decoration-color: #008080; font-weight: bold\">2999</span>        Hawaii  \n",
       "\n",
       "<span style=\"font-weight: bold\">[</span><span style=\"color: #008080; text-decoration-color: #008080; font-weight: bold\">3000</span> rows x <span style=\"color: #008080; text-decoration-color: #008080; font-weight: bold\">7</span> columns<span style=\"font-weight: bold\">]</span>\n",
       "</pre>\n"
      ],
      "text/plain": [
       "              city  growth   latitude   longitude  population  rank  \\\n",
       "\u001b[1;36m0\u001b[0m         New York     \u001b[1;36m4.8\u001b[0m  \u001b[1;36m40.712784\u001b[0m  \u001b[1;36m-74.005941\u001b[0m     \u001b[1;36m8405837\u001b[0m     \u001b[1;36m1\u001b[0m   \n",
       "\u001b[1;36m1\u001b[0m      Los Angeles     \u001b[1;36m4.8\u001b[0m  \u001b[1;36m34.052234\u001b[0m \u001b[1;36m-118.243685\u001b[0m     \u001b[1;36m3884307\u001b[0m     \u001b[1;36m2\u001b[0m   \n",
       "\u001b[1;36m2\u001b[0m          Chicago    \u001b[1;36m-6.1\u001b[0m  \u001b[1;36m41.878114\u001b[0m  \u001b[1;36m-87.629798\u001b[0m     \u001b[1;36m2718782\u001b[0m     \u001b[1;36m3\u001b[0m   \n",
       "\u001b[1;36m3\u001b[0m          Houston    \u001b[1;36m11.0\u001b[0m  \u001b[1;36m29.760427\u001b[0m  \u001b[1;36m-95.369803\u001b[0m     \u001b[1;36m2195914\u001b[0m     \u001b[1;36m4\u001b[0m   \n",
       "\u001b[1;36m4\u001b[0m     Philadelphia     \u001b[1;36m2.6\u001b[0m  \u001b[1;36m39.952584\u001b[0m  \u001b[1;36m-75.165222\u001b[0m     \u001b[1;36m1553165\u001b[0m     \u001b[1;36m5\u001b[0m   \n",
       "\u001b[33m...\u001b[0m            \u001b[33m...\u001b[0m     \u001b[33m...\u001b[0m        \u001b[33m...\u001b[0m         \u001b[33m...\u001b[0m         \u001b[33m...\u001b[0m   \u001b[33m...\u001b[0m   \n",
       "\u001b[1;36m2995\u001b[0m  Spanish Fork    \u001b[1;36m78.1\u001b[0m  \u001b[1;36m40.114955\u001b[0m \u001b[1;36m-111.654923\u001b[0m       \u001b[1;36m36956\u001b[0m   \u001b[1;36m998\u001b[0m   \n",
       "\u001b[1;36m2996\u001b[0m        Beloit     \u001b[1;36m2.9\u001b[0m  \u001b[1;36m42.508348\u001b[0m  \u001b[1;36m-89.031776\u001b[0m       \u001b[1;36m36888\u001b[0m   \u001b[1;36m999\u001b[0m   \n",
       "\u001b[1;36m2997\u001b[0m   Panama City     \u001b[1;36m0.1\u001b[0m  \u001b[1;36m30.158813\u001b[0m  \u001b[1;36m-85.660206\u001b[0m       \u001b[1;36m36877\u001b[0m  \u001b[1;36m1000\u001b[0m   \n",
       "\u001b[1;36m2998\u001b[0m     Anchorage    \u001b[1;36m15.4\u001b[0m  \u001b[1;36m61.218056\u001b[0m \u001b[1;36m-149.900278\u001b[0m      \u001b[1;36m300950\u001b[0m    \u001b[1;36m63\u001b[0m   \n",
       "\u001b[1;36m2999\u001b[0m      Honolulu    \u001b[1;36m-6.2\u001b[0m  \u001b[1;36m21.306944\u001b[0m \u001b[1;36m-157.858333\u001b[0m      \u001b[1;36m347884\u001b[0m    \u001b[1;36m54\u001b[0m   \n",
       "\n",
       "             state  \n",
       "\u001b[1;36m0\u001b[0m         New York  \n",
       "\u001b[1;36m1\u001b[0m       California  \n",
       "\u001b[1;36m2\u001b[0m         Illinois  \n",
       "\u001b[1;36m3\u001b[0m            Texas  \n",
       "\u001b[1;36m4\u001b[0m     Pennsylvania  \n",
       "\u001b[33m...\u001b[0m            \u001b[33m...\u001b[0m  \n",
       "\u001b[1;36m2995\u001b[0m          Utah  \n",
       "\u001b[1;36m2996\u001b[0m     Wisconsin  \n",
       "\u001b[1;36m2997\u001b[0m       Florida  \n",
       "\u001b[1;36m2998\u001b[0m        Alaska  \n",
       "\u001b[1;36m2999\u001b[0m        Hawaii  \n",
       "\n",
       "\u001b[1m[\u001b[0m\u001b[1;36m3000\u001b[0m rows x \u001b[1;36m7\u001b[0m columns\u001b[1m]\u001b[0m\n"
      ]
     },
     "metadata": {},
     "output_type": "display_data"
    },
    {
     "name": "stdout",
     "output_type": "stream",
     "text": [
      "<class 'pandas.core.frame.DataFrame'>\n",
      "RangeIndex: 3000 entries, 0 to 2999\n",
      "Data columns (total 7 columns):\n",
      " #   Column      Non-Null Count  Dtype  \n",
      "---  ------      --------------  -----  \n",
      " 0   city        3000 non-null   object \n",
      " 1   growth      3000 non-null   float64\n",
      " 2   latitude    3000 non-null   float64\n",
      " 3   longitude   3000 non-null   float64\n",
      " 4   population  3000 non-null   int64  \n",
      " 5   rank        3000 non-null   int64  \n",
      " 6   state       3000 non-null   object \n",
      "dtypes: float64(3), int64(2), object(2)\n",
      "memory usage: 164.2+ KB\n"
     ]
    }
   ],
   "source": [
    "df = pd.DataFrame(parallelCityData)\n",
    "print(df)\n",
    "\n",
    "df.info()"
   ]
  }
 ],
 "metadata": {
  "interpreter": {
   "hash": "aee8b7b246df8f9039afb4144a1f6fd8d2ca17a180786b69acc140d282b71a49"
  },
  "kernelspec": {
   "display_name": "Python 3 (ipykernel)",
   "language": "python",
   "name": "python3"
  },
  "language_info": {
   "codemirror_mode": {
    "name": "ipython",
    "version": 3
   },
   "file_extension": ".py",
   "mimetype": "text/x-python",
   "name": "python",
   "nbconvert_exporter": "python",
   "pygments_lexer": "ipython3",
   "version": "3.9.2"
  }
 },
 "nbformat": 4,
 "nbformat_minor": 2
}
