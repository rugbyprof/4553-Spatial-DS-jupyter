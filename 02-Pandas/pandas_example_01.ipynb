{
 "cells": [
  {
   "cell_type": "markdown",
   "metadata": {},
   "source": [
    "## Pandas DataFrames\n",
    "\n",
    "Pandas uses data frames to represent data. Data frames are like spreadsheets or database tables. \n",
    "\n",
    "<img src=\"./images/01_table_dataframe.png\" width=\"300\">\n",
    "\n",
    "The simplest filetypes to deal with are `csv` but ... we won't always have that luxury. So I will start by showing you how to load a csv file into a dataFrame, and then show a few methods that work on dataFrames. I will then use a json data file that has the same data, but in a \"not so friendly\" format. I previously converted it to the csv for this example, but I think understanding what a dataFrame expects a python dictionary to be formatted like in order to be read correctly could be really helpful.\n",
    "\n",
    "\n",
    "### CSV Example\n",
    "\n",
    "First thing is to import the correct libraries:"
   ]
  },
  {
   "cell_type": "code",
   "execution_count": 9,
   "metadata": {},
   "outputs": [
    {
     "data": {
      "text/html": [
       "<pre style=\"white-space:pre;overflow-x:auto;line-height:normal;font-family:Menlo,'DejaVu Sans Mono',consolas,'Courier New',monospace\"><span style=\"color: #800080; text-decoration-color: #800080\">/Users/griffin/Dropbox/_Courses/4553-Spatial-DS/Lectures/</span><span style=\"color: #ff00ff; text-decoration-color: #ff00ff\">03_Pandas</span>\n",
       "</pre>\n"
      ],
      "text/plain": [
       "\u001b[35m/Users/griffin/Dropbox/_Courses/4553-Spatial-DS/Lectures/\u001b[0m\u001b[95m03_Pandas\u001b[0m\n"
      ]
     },
     "metadata": {},
     "output_type": "display_data"
    }
   ],
   "source": [
    "import pandas as pd      # the necessary library\n",
    "from rich import print   # extra python package to give std output colorful and more readable\n",
    "import os\n",
    "\n",
    "print(os.getcwd())"
   ]
  },
  {
   "cell_type": "markdown",
   "metadata": {},
   "source": [
    "Now we can read in the appropriate csv file in just a couple of lines of code."
   ]
  },
  {
   "cell_type": "code",
   "execution_count": 10,
   "metadata": {},
   "outputs": [
    {
     "data": {
      "text/html": [
       "<pre style=\"white-space:pre;overflow-x:auto;line-height:normal;font-family:Menlo,'DejaVu Sans Mono',consolas,'Courier New',monospace\">     rank         state          city   latitude   longitude  population  \\\n",
       "<span style=\"color: #008080; text-decoration-color: #008080; font-weight: bold\">0</span>       <span style=\"color: #008080; text-decoration-color: #008080; font-weight: bold\">1</span>      New York      New York  <span style=\"color: #008080; text-decoration-color: #008080; font-weight: bold\">40.712784</span>  <span style=\"color: #008080; text-decoration-color: #008080; font-weight: bold\">-74.005941</span>     <span style=\"color: #008080; text-decoration-color: #008080; font-weight: bold\">8405837</span>   \n",
       "<span style=\"color: #008080; text-decoration-color: #008080; font-weight: bold\">1</span>       <span style=\"color: #008080; text-decoration-color: #008080; font-weight: bold\">2</span>    California   Los Angeles  <span style=\"color: #008080; text-decoration-color: #008080; font-weight: bold\">34.052234</span> <span style=\"color: #008080; text-decoration-color: #008080; font-weight: bold\">-118.243685</span>     <span style=\"color: #008080; text-decoration-color: #008080; font-weight: bold\">3884307</span>   \n",
       "<span style=\"color: #008080; text-decoration-color: #008080; font-weight: bold\">2</span>       <span style=\"color: #008080; text-decoration-color: #008080; font-weight: bold\">3</span>      Illinois       Chicago  <span style=\"color: #008080; text-decoration-color: #008080; font-weight: bold\">41.878114</span>  <span style=\"color: #008080; text-decoration-color: #008080; font-weight: bold\">-87.629798</span>     <span style=\"color: #008080; text-decoration-color: #008080; font-weight: bold\">2718782</span>   \n",
       "<span style=\"color: #008080; text-decoration-color: #008080; font-weight: bold\">3</span>       <span style=\"color: #008080; text-decoration-color: #008080; font-weight: bold\">4</span>         Texas       Houston  <span style=\"color: #008080; text-decoration-color: #008080; font-weight: bold\">29.760427</span>  <span style=\"color: #008080; text-decoration-color: #008080; font-weight: bold\">-95.369803</span>     <span style=\"color: #008080; text-decoration-color: #008080; font-weight: bold\">2195914</span>   \n",
       "<span style=\"color: #008080; text-decoration-color: #008080; font-weight: bold\">4</span>       <span style=\"color: #008080; text-decoration-color: #008080; font-weight: bold\">5</span>  Pennsylvania  Philadelphia  <span style=\"color: #008080; text-decoration-color: #008080; font-weight: bold\">39.952584</span>  <span style=\"color: #008080; text-decoration-color: #008080; font-weight: bold\">-75.165222</span>     <span style=\"color: #008080; text-decoration-color: #008080; font-weight: bold\">1553165</span>   \n",
       "..    <span style=\"color: #808000; text-decoration-color: #808000\">...</span>           <span style=\"color: #808000; text-decoration-color: #808000\">...</span>           <span style=\"color: #808000; text-decoration-color: #808000\">...</span>        <span style=\"color: #808000; text-decoration-color: #808000\">...</span>         <span style=\"color: #808000; text-decoration-color: #808000\">...</span>         <span style=\"color: #808000; text-decoration-color: #808000\">...</span>   \n",
       "<span style=\"color: #008080; text-decoration-color: #008080; font-weight: bold\">995</span>   <span style=\"color: #008080; text-decoration-color: #008080; font-weight: bold\">998</span>          Utah  Spanish Fork  <span style=\"color: #008080; text-decoration-color: #008080; font-weight: bold\">40.114955</span> <span style=\"color: #008080; text-decoration-color: #008080; font-weight: bold\">-111.654923</span>       <span style=\"color: #008080; text-decoration-color: #008080; font-weight: bold\">36956</span>   \n",
       "<span style=\"color: #008080; text-decoration-color: #008080; font-weight: bold\">996</span>   <span style=\"color: #008080; text-decoration-color: #008080; font-weight: bold\">999</span>     Wisconsin        Beloit  <span style=\"color: #008080; text-decoration-color: #008080; font-weight: bold\">42.508348</span>  <span style=\"color: #008080; text-decoration-color: #008080; font-weight: bold\">-89.031776</span>       <span style=\"color: #008080; text-decoration-color: #008080; font-weight: bold\">36888</span>   \n",
       "<span style=\"color: #008080; text-decoration-color: #008080; font-weight: bold\">997</span>  <span style=\"color: #008080; text-decoration-color: #008080; font-weight: bold\">1000</span>       Florida   Panama City  <span style=\"color: #008080; text-decoration-color: #008080; font-weight: bold\">30.158813</span>  <span style=\"color: #008080; text-decoration-color: #008080; font-weight: bold\">-85.660206</span>       <span style=\"color: #008080; text-decoration-color: #008080; font-weight: bold\">36877</span>   \n",
       "<span style=\"color: #008080; text-decoration-color: #008080; font-weight: bold\">998</span>    <span style=\"color: #008080; text-decoration-color: #008080; font-weight: bold\">63</span>        Alaska     Anchorage  <span style=\"color: #008080; text-decoration-color: #008080; font-weight: bold\">61.218056</span> <span style=\"color: #008080; text-decoration-color: #008080; font-weight: bold\">-149.900278</span>      <span style=\"color: #008080; text-decoration-color: #008080; font-weight: bold\">300950</span>   \n",
       "<span style=\"color: #008080; text-decoration-color: #008080; font-weight: bold\">999</span>    <span style=\"color: #008080; text-decoration-color: #008080; font-weight: bold\">54</span>        Hawaii      Honolulu  <span style=\"color: #008080; text-decoration-color: #008080; font-weight: bold\">21.306944</span> <span style=\"color: #008080; text-decoration-color: #008080; font-weight: bold\">-157.858333</span>      <span style=\"color: #008080; text-decoration-color: #008080; font-weight: bold\">347884</span>   \n",
       "\n",
       "     growth  \n",
       "<span style=\"color: #008080; text-decoration-color: #008080; font-weight: bold\">0</span>       <span style=\"color: #008080; text-decoration-color: #008080; font-weight: bold\">4.8</span>  \n",
       "<span style=\"color: #008080; text-decoration-color: #008080; font-weight: bold\">1</span>       <span style=\"color: #008080; text-decoration-color: #008080; font-weight: bold\">4.8</span>  \n",
       "<span style=\"color: #008080; text-decoration-color: #008080; font-weight: bold\">2</span>      <span style=\"color: #008080; text-decoration-color: #008080; font-weight: bold\">-6.1</span>  \n",
       "<span style=\"color: #008080; text-decoration-color: #008080; font-weight: bold\">3</span>      <span style=\"color: #008080; text-decoration-color: #008080; font-weight: bold\">11.0</span>  \n",
       "<span style=\"color: #008080; text-decoration-color: #008080; font-weight: bold\">4</span>       <span style=\"color: #008080; text-decoration-color: #008080; font-weight: bold\">2.6</span>  \n",
       "..      <span style=\"color: #808000; text-decoration-color: #808000\">...</span>  \n",
       "<span style=\"color: #008080; text-decoration-color: #008080; font-weight: bold\">995</span>    <span style=\"color: #008080; text-decoration-color: #008080; font-weight: bold\">78.1</span>  \n",
       "<span style=\"color: #008080; text-decoration-color: #008080; font-weight: bold\">996</span>     <span style=\"color: #008080; text-decoration-color: #008080; font-weight: bold\">2.9</span>  \n",
       "<span style=\"color: #008080; text-decoration-color: #008080; font-weight: bold\">997</span>     <span style=\"color: #008080; text-decoration-color: #008080; font-weight: bold\">0.1</span>  \n",
       "<span style=\"color: #008080; text-decoration-color: #008080; font-weight: bold\">998</span>    <span style=\"color: #008080; text-decoration-color: #008080; font-weight: bold\">15.4</span>  \n",
       "<span style=\"color: #008080; text-decoration-color: #008080; font-weight: bold\">999</span>    <span style=\"color: #008080; text-decoration-color: #008080; font-weight: bold\">-6.2</span>  \n",
       "\n",
       "<span style=\"font-weight: bold\">[</span><span style=\"color: #008080; text-decoration-color: #008080; font-weight: bold\">1000</span> rows x <span style=\"color: #008080; text-decoration-color: #008080; font-weight: bold\">7</span> columns<span style=\"font-weight: bold\">]</span>\n",
       "</pre>\n"
      ],
      "text/plain": [
       "     rank         state          city   latitude   longitude  population  \\\n",
       "\u001b[1;36m0\u001b[0m       \u001b[1;36m1\u001b[0m      New York      New York  \u001b[1;36m40.712784\u001b[0m  \u001b[1;36m-74.005941\u001b[0m     \u001b[1;36m8405837\u001b[0m   \n",
       "\u001b[1;36m1\u001b[0m       \u001b[1;36m2\u001b[0m    California   Los Angeles  \u001b[1;36m34.052234\u001b[0m \u001b[1;36m-118.243685\u001b[0m     \u001b[1;36m3884307\u001b[0m   \n",
       "\u001b[1;36m2\u001b[0m       \u001b[1;36m3\u001b[0m      Illinois       Chicago  \u001b[1;36m41.878114\u001b[0m  \u001b[1;36m-87.629798\u001b[0m     \u001b[1;36m2718782\u001b[0m   \n",
       "\u001b[1;36m3\u001b[0m       \u001b[1;36m4\u001b[0m         Texas       Houston  \u001b[1;36m29.760427\u001b[0m  \u001b[1;36m-95.369803\u001b[0m     \u001b[1;36m2195914\u001b[0m   \n",
       "\u001b[1;36m4\u001b[0m       \u001b[1;36m5\u001b[0m  Pennsylvania  Philadelphia  \u001b[1;36m39.952584\u001b[0m  \u001b[1;36m-75.165222\u001b[0m     \u001b[1;36m1553165\u001b[0m   \n",
       "..    \u001b[33m...\u001b[0m           \u001b[33m...\u001b[0m           \u001b[33m...\u001b[0m        \u001b[33m...\u001b[0m         \u001b[33m...\u001b[0m         \u001b[33m...\u001b[0m   \n",
       "\u001b[1;36m995\u001b[0m   \u001b[1;36m998\u001b[0m          Utah  Spanish Fork  \u001b[1;36m40.114955\u001b[0m \u001b[1;36m-111.654923\u001b[0m       \u001b[1;36m36956\u001b[0m   \n",
       "\u001b[1;36m996\u001b[0m   \u001b[1;36m999\u001b[0m     Wisconsin        Beloit  \u001b[1;36m42.508348\u001b[0m  \u001b[1;36m-89.031776\u001b[0m       \u001b[1;36m36888\u001b[0m   \n",
       "\u001b[1;36m997\u001b[0m  \u001b[1;36m1000\u001b[0m       Florida   Panama City  \u001b[1;36m30.158813\u001b[0m  \u001b[1;36m-85.660206\u001b[0m       \u001b[1;36m36877\u001b[0m   \n",
       "\u001b[1;36m998\u001b[0m    \u001b[1;36m63\u001b[0m        Alaska     Anchorage  \u001b[1;36m61.218056\u001b[0m \u001b[1;36m-149.900278\u001b[0m      \u001b[1;36m300950\u001b[0m   \n",
       "\u001b[1;36m999\u001b[0m    \u001b[1;36m54\u001b[0m        Hawaii      Honolulu  \u001b[1;36m21.306944\u001b[0m \u001b[1;36m-157.858333\u001b[0m      \u001b[1;36m347884\u001b[0m   \n",
       "\n",
       "     growth  \n",
       "\u001b[1;36m0\u001b[0m       \u001b[1;36m4.8\u001b[0m  \n",
       "\u001b[1;36m1\u001b[0m       \u001b[1;36m4.8\u001b[0m  \n",
       "\u001b[1;36m2\u001b[0m      \u001b[1;36m-6.1\u001b[0m  \n",
       "\u001b[1;36m3\u001b[0m      \u001b[1;36m11.0\u001b[0m  \n",
       "\u001b[1;36m4\u001b[0m       \u001b[1;36m2.6\u001b[0m  \n",
       "..      \u001b[33m...\u001b[0m  \n",
       "\u001b[1;36m995\u001b[0m    \u001b[1;36m78.1\u001b[0m  \n",
       "\u001b[1;36m996\u001b[0m     \u001b[1;36m2.9\u001b[0m  \n",
       "\u001b[1;36m997\u001b[0m     \u001b[1;36m0.1\u001b[0m  \n",
       "\u001b[1;36m998\u001b[0m    \u001b[1;36m15.4\u001b[0m  \n",
       "\u001b[1;36m999\u001b[0m    \u001b[1;36m-6.2\u001b[0m  \n",
       "\n",
       "\u001b[1m[\u001b[0m\u001b[1;36m1000\u001b[0m rows x \u001b[1;36m7\u001b[0m columns\u001b[1m]\u001b[0m\n"
      ]
     },
     "metadata": {},
     "output_type": "display_data"
    }
   ],
   "source": [
    "# You  may have to adjust the path to read in the file correctly\n",
    "csvData = pd.read_csv(\"../../Resources/01_Data/cities_latlon_w_pop_v2.csv\")\n",
    "cityDf = pd.DataFrame(csvData)\n",
    "\n",
    "print(cityDf)"
   ]
  },
  {
   "cell_type": "markdown",
   "metadata": {},
   "source": [
    "### Head() and Tail Methods\n",
    "\n",
    "To see the first 8 and last 3 rows of a pandas dataFrame:"
   ]
  },
  {
   "cell_type": "code",
   "execution_count": 45,
   "metadata": {},
   "outputs": [
    {
     "data": {
      "text/html": [
       "<div>\n",
       "<style scoped>\n",
       "    .dataframe tbody tr th:only-of-type {\n",
       "        vertical-align: middle;\n",
       "    }\n",
       "\n",
       "    .dataframe tbody tr th {\n",
       "        vertical-align: top;\n",
       "    }\n",
       "\n",
       "    .dataframe thead th {\n",
       "        text-align: right;\n",
       "    }\n",
       "</style>\n",
       "<table border=\"1\" class=\"dataframe\">\n",
       "  <thead>\n",
       "    <tr style=\"text-align: right;\">\n",
       "      <th></th>\n",
       "      <th>rank</th>\n",
       "      <th>state</th>\n",
       "      <th>city</th>\n",
       "      <th>latitude</th>\n",
       "      <th>longitude</th>\n",
       "      <th>population</th>\n",
       "      <th>growth</th>\n",
       "    </tr>\n",
       "  </thead>\n",
       "  <tbody>\n",
       "    <tr>\n",
       "      <th>0</th>\n",
       "      <td>1</td>\n",
       "      <td>New York</td>\n",
       "      <td>New York</td>\n",
       "      <td>40.712784</td>\n",
       "      <td>-74.005941</td>\n",
       "      <td>8405837</td>\n",
       "      <td>4.8</td>\n",
       "    </tr>\n",
       "    <tr>\n",
       "      <th>1</th>\n",
       "      <td>2</td>\n",
       "      <td>California</td>\n",
       "      <td>Los Angeles</td>\n",
       "      <td>34.052234</td>\n",
       "      <td>-118.243685</td>\n",
       "      <td>3884307</td>\n",
       "      <td>4.8</td>\n",
       "    </tr>\n",
       "    <tr>\n",
       "      <th>2</th>\n",
       "      <td>3</td>\n",
       "      <td>Illinois</td>\n",
       "      <td>Chicago</td>\n",
       "      <td>41.878114</td>\n",
       "      <td>-87.629798</td>\n",
       "      <td>2718782</td>\n",
       "      <td>-6.1</td>\n",
       "    </tr>\n",
       "    <tr>\n",
       "      <th>3</th>\n",
       "      <td>4</td>\n",
       "      <td>Texas</td>\n",
       "      <td>Houston</td>\n",
       "      <td>29.760427</td>\n",
       "      <td>-95.369803</td>\n",
       "      <td>2195914</td>\n",
       "      <td>11.0</td>\n",
       "    </tr>\n",
       "    <tr>\n",
       "      <th>4</th>\n",
       "      <td>5</td>\n",
       "      <td>Pennsylvania</td>\n",
       "      <td>Philadelphia</td>\n",
       "      <td>39.952584</td>\n",
       "      <td>-75.165222</td>\n",
       "      <td>1553165</td>\n",
       "      <td>2.6</td>\n",
       "    </tr>\n",
       "    <tr>\n",
       "      <th>5</th>\n",
       "      <td>6</td>\n",
       "      <td>Arizona</td>\n",
       "      <td>Phoenix</td>\n",
       "      <td>33.448377</td>\n",
       "      <td>-112.074037</td>\n",
       "      <td>1513367</td>\n",
       "      <td>14.0</td>\n",
       "    </tr>\n",
       "    <tr>\n",
       "      <th>6</th>\n",
       "      <td>7</td>\n",
       "      <td>Texas</td>\n",
       "      <td>San Antonio</td>\n",
       "      <td>29.424122</td>\n",
       "      <td>-98.493628</td>\n",
       "      <td>1409019</td>\n",
       "      <td>21.0</td>\n",
       "    </tr>\n",
       "    <tr>\n",
       "      <th>7</th>\n",
       "      <td>8</td>\n",
       "      <td>California</td>\n",
       "      <td>San Diego</td>\n",
       "      <td>32.715738</td>\n",
       "      <td>-117.161084</td>\n",
       "      <td>1355896</td>\n",
       "      <td>10.5</td>\n",
       "    </tr>\n",
       "  </tbody>\n",
       "</table>\n",
       "</div>"
      ],
      "text/plain": [
       "   rank         state          city   latitude   longitude  population  growth\n",
       "0     1      New York      New York  40.712784  -74.005941     8405837     4.8\n",
       "1     2    California   Los Angeles  34.052234 -118.243685     3884307     4.8\n",
       "2     3      Illinois       Chicago  41.878114  -87.629798     2718782    -6.1\n",
       "3     4         Texas       Houston  29.760427  -95.369803     2195914    11.0\n",
       "4     5  Pennsylvania  Philadelphia  39.952584  -75.165222     1553165     2.6\n",
       "5     6       Arizona       Phoenix  33.448377 -112.074037     1513367    14.0\n",
       "6     7         Texas   San Antonio  29.424122  -98.493628     1409019    21.0\n",
       "7     8    California     San Diego  32.715738 -117.161084     1355896    10.5"
      ]
     },
     "execution_count": 45,
     "metadata": {},
     "output_type": "execute_result"
    }
   ],
   "source": [
    "cityDf.head(8)"
   ]
  },
  {
   "cell_type": "code",
   "execution_count": 46,
   "metadata": {},
   "outputs": [
    {
     "data": {
      "text/html": [
       "<div>\n",
       "<style scoped>\n",
       "    .dataframe tbody tr th:only-of-type {\n",
       "        vertical-align: middle;\n",
       "    }\n",
       "\n",
       "    .dataframe tbody tr th {\n",
       "        vertical-align: top;\n",
       "    }\n",
       "\n",
       "    .dataframe thead th {\n",
       "        text-align: right;\n",
       "    }\n",
       "</style>\n",
       "<table border=\"1\" class=\"dataframe\">\n",
       "  <thead>\n",
       "    <tr style=\"text-align: right;\">\n",
       "      <th></th>\n",
       "      <th>rank</th>\n",
       "      <th>state</th>\n",
       "      <th>city</th>\n",
       "      <th>latitude</th>\n",
       "      <th>longitude</th>\n",
       "      <th>population</th>\n",
       "      <th>growth</th>\n",
       "    </tr>\n",
       "  </thead>\n",
       "  <tbody>\n",
       "    <tr>\n",
       "      <th>997</th>\n",
       "      <td>1000</td>\n",
       "      <td>Florida</td>\n",
       "      <td>Panama City</td>\n",
       "      <td>30.158813</td>\n",
       "      <td>-85.660206</td>\n",
       "      <td>36877</td>\n",
       "      <td>0.1</td>\n",
       "    </tr>\n",
       "    <tr>\n",
       "      <th>998</th>\n",
       "      <td>63</td>\n",
       "      <td>Alaska</td>\n",
       "      <td>Anchorage</td>\n",
       "      <td>61.218056</td>\n",
       "      <td>-149.900278</td>\n",
       "      <td>300950</td>\n",
       "      <td>15.4</td>\n",
       "    </tr>\n",
       "    <tr>\n",
       "      <th>999</th>\n",
       "      <td>54</td>\n",
       "      <td>Hawaii</td>\n",
       "      <td>Honolulu</td>\n",
       "      <td>21.306944</td>\n",
       "      <td>-157.858333</td>\n",
       "      <td>347884</td>\n",
       "      <td>-6.2</td>\n",
       "    </tr>\n",
       "  </tbody>\n",
       "</table>\n",
       "</div>"
      ],
      "text/plain": [
       "     rank    state         city   latitude   longitude  population  growth\n",
       "997  1000  Florida  Panama City  30.158813  -85.660206       36877     0.1\n",
       "998    63   Alaska    Anchorage  61.218056 -149.900278      300950    15.4\n",
       "999    54   Hawaii     Honolulu  21.306944 -157.858333      347884    -6.2"
      ]
     },
     "execution_count": 46,
     "metadata": {},
     "output_type": "execute_result"
    }
   ],
   "source": [
    "cityDf.tail(3)"
   ]
  },
  {
   "cell_type": "markdown",
   "metadata": {},
   "source": [
    "A check on how pandas interpreted each of the column data types can be done by requesting the pandas dtypes attribute:"
   ]
  },
  {
   "cell_type": "code",
   "execution_count": 47,
   "metadata": {},
   "outputs": [
    {
     "data": {
      "text/plain": [
       "rank            int64\n",
       "state          object\n",
       "city           object\n",
       "latitude      float64\n",
       "longitude     float64\n",
       "population      int64\n",
       "growth        float64\n",
       "dtype: object"
      ]
     },
     "execution_count": 47,
     "metadata": {},
     "output_type": "execute_result"
    }
   ],
   "source": [
    "cityDf.dtypes"
   ]
  },
  {
   "cell_type": "markdown",
   "metadata": {},
   "source": [
    "Similarly, the `.info()` method gives us additional information about the data frame itself: "
   ]
  },
  {
   "cell_type": "code",
   "execution_count": 48,
   "metadata": {},
   "outputs": [
    {
     "name": "stdout",
     "output_type": "stream",
     "text": [
      "<class 'pandas.core.frame.DataFrame'>\n",
      "RangeIndex: 1000 entries, 0 to 999\n",
      "Data columns (total 7 columns):\n",
      " #   Column      Non-Null Count  Dtype  \n",
      "---  ------      --------------  -----  \n",
      " 0   rank        1000 non-null   int64  \n",
      " 1   state       1000 non-null   object \n",
      " 2   city        1000 non-null   object \n",
      " 3   latitude    1000 non-null   float64\n",
      " 4   longitude   1000 non-null   float64\n",
      " 5   population  1000 non-null   int64  \n",
      " 6   growth      1000 non-null   float64\n",
      "dtypes: float64(3), int64(2), object(2)\n",
      "memory usage: 54.8+ KB\n"
     ]
    }
   ],
   "source": [
    "cityDf.info()"
   ]
  },
  {
   "cell_type": "markdown",
   "metadata": {},
   "source": [
    "### Filtering Columns\n",
    "\n",
    "<img src=\"./images/03_subset_columns.png\" width=\"600\">\n",
    "\n",
    "#### Single Column\n",
    "\n",
    "Using the same syntax as a dictionary, we can pull specific columns out of the dataFrame and store them in a variable."
   ]
  },
  {
   "cell_type": "code",
   "execution_count": 49,
   "metadata": {},
   "outputs": [
    {
     "data": {
      "text/html": [
       "<pre style=\"white-space:pre;overflow-x:auto;line-height:normal;font-family:Menlo,'DejaVu Sans Mono',consolas,'Courier New',monospace\"><span style=\"color: #008080; text-decoration-color: #008080; font-weight: bold\">0</span>          New York\n",
       "<span style=\"color: #008080; text-decoration-color: #008080; font-weight: bold\">1</span>        California\n",
       "<span style=\"color: #008080; text-decoration-color: #008080; font-weight: bold\">2</span>          Illinois\n",
       "<span style=\"color: #008080; text-decoration-color: #008080; font-weight: bold\">3</span>             Texas\n",
       "<span style=\"color: #008080; text-decoration-color: #008080; font-weight: bold\">4</span>      Pennsylvania\n",
       "           <span style=\"color: #808000; text-decoration-color: #808000\">...</span>     \n",
       "<span style=\"color: #008080; text-decoration-color: #008080; font-weight: bold\">995</span>            Utah\n",
       "<span style=\"color: #008080; text-decoration-color: #008080; font-weight: bold\">996</span>       Wisconsin\n",
       "<span style=\"color: #008080; text-decoration-color: #008080; font-weight: bold\">997</span>         Florida\n",
       "<span style=\"color: #008080; text-decoration-color: #008080; font-weight: bold\">998</span>          Alaska\n",
       "<span style=\"color: #008080; text-decoration-color: #008080; font-weight: bold\">999</span>          Hawaii\n",
       "Name: state, Length: <span style=\"color: #008080; text-decoration-color: #008080; font-weight: bold\">1000</span>, dtype: object\n",
       "</pre>\n"
      ],
      "text/plain": [
       "\u001b[1;36m0\u001b[0m          New York\n",
       "\u001b[1;36m1\u001b[0m        California\n",
       "\u001b[1;36m2\u001b[0m          Illinois\n",
       "\u001b[1;36m3\u001b[0m             Texas\n",
       "\u001b[1;36m4\u001b[0m      Pennsylvania\n",
       "           \u001b[33m...\u001b[0m     \n",
       "\u001b[1;36m995\u001b[0m            Utah\n",
       "\u001b[1;36m996\u001b[0m       Wisconsin\n",
       "\u001b[1;36m997\u001b[0m         Florida\n",
       "\u001b[1;36m998\u001b[0m          Alaska\n",
       "\u001b[1;36m999\u001b[0m          Hawaii\n",
       "Name: state, Length: \u001b[1;36m1000\u001b[0m, dtype: object\n"
      ]
     },
     "metadata": {},
     "output_type": "display_data"
    }
   ],
   "source": [
    "states = cityDf[\"state\"]\n",
    "\n",
    "print(states)"
   ]
  },
  {
   "cell_type": "markdown",
   "metadata": {},
   "source": [
    "#### Multiple Columns\n",
    "\n",
    "This filters multiple columns. Look at the syntax, we are using a \"list\" of column names as a \"key\" to the dataFrame."
   ]
  },
  {
   "cell_type": "code",
   "execution_count": 50,
   "metadata": {},
   "outputs": [
    {
     "data": {
      "text/html": [
       "<pre style=\"white-space:pre;overflow-x:auto;line-height:normal;font-family:Menlo,'DejaVu Sans Mono',consolas,'Courier New',monospace\">     rank         state\n",
       "<span style=\"color: #008080; text-decoration-color: #008080; font-weight: bold\">0</span>       <span style=\"color: #008080; text-decoration-color: #008080; font-weight: bold\">1</span>      New York\n",
       "<span style=\"color: #008080; text-decoration-color: #008080; font-weight: bold\">1</span>       <span style=\"color: #008080; text-decoration-color: #008080; font-weight: bold\">2</span>    California\n",
       "<span style=\"color: #008080; text-decoration-color: #008080; font-weight: bold\">2</span>       <span style=\"color: #008080; text-decoration-color: #008080; font-weight: bold\">3</span>      Illinois\n",
       "<span style=\"color: #008080; text-decoration-color: #008080; font-weight: bold\">3</span>       <span style=\"color: #008080; text-decoration-color: #008080; font-weight: bold\">4</span>         Texas\n",
       "<span style=\"color: #008080; text-decoration-color: #008080; font-weight: bold\">4</span>       <span style=\"color: #008080; text-decoration-color: #008080; font-weight: bold\">5</span>  Pennsylvania\n",
       "..    <span style=\"color: #808000; text-decoration-color: #808000\">...</span>           <span style=\"color: #808000; text-decoration-color: #808000\">...</span>\n",
       "<span style=\"color: #008080; text-decoration-color: #008080; font-weight: bold\">995</span>   <span style=\"color: #008080; text-decoration-color: #008080; font-weight: bold\">998</span>          Utah\n",
       "<span style=\"color: #008080; text-decoration-color: #008080; font-weight: bold\">996</span>   <span style=\"color: #008080; text-decoration-color: #008080; font-weight: bold\">999</span>     Wisconsin\n",
       "<span style=\"color: #008080; text-decoration-color: #008080; font-weight: bold\">997</span>  <span style=\"color: #008080; text-decoration-color: #008080; font-weight: bold\">1000</span>       Florida\n",
       "<span style=\"color: #008080; text-decoration-color: #008080; font-weight: bold\">998</span>    <span style=\"color: #008080; text-decoration-color: #008080; font-weight: bold\">63</span>        Alaska\n",
       "<span style=\"color: #008080; text-decoration-color: #008080; font-weight: bold\">999</span>    <span style=\"color: #008080; text-decoration-color: #008080; font-weight: bold\">54</span>        Hawaii\n",
       "\n",
       "<span style=\"font-weight: bold\">[</span><span style=\"color: #008080; text-decoration-color: #008080; font-weight: bold\">1000</span> rows x <span style=\"color: #008080; text-decoration-color: #008080; font-weight: bold\">2</span> columns<span style=\"font-weight: bold\">]</span>\n",
       "</pre>\n"
      ],
      "text/plain": [
       "     rank         state\n",
       "\u001b[1;36m0\u001b[0m       \u001b[1;36m1\u001b[0m      New York\n",
       "\u001b[1;36m1\u001b[0m       \u001b[1;36m2\u001b[0m    California\n",
       "\u001b[1;36m2\u001b[0m       \u001b[1;36m3\u001b[0m      Illinois\n",
       "\u001b[1;36m3\u001b[0m       \u001b[1;36m4\u001b[0m         Texas\n",
       "\u001b[1;36m4\u001b[0m       \u001b[1;36m5\u001b[0m  Pennsylvania\n",
       "..    \u001b[33m...\u001b[0m           \u001b[33m...\u001b[0m\n",
       "\u001b[1;36m995\u001b[0m   \u001b[1;36m998\u001b[0m          Utah\n",
       "\u001b[1;36m996\u001b[0m   \u001b[1;36m999\u001b[0m     Wisconsin\n",
       "\u001b[1;36m997\u001b[0m  \u001b[1;36m1000\u001b[0m       Florida\n",
       "\u001b[1;36m998\u001b[0m    \u001b[1;36m63\u001b[0m        Alaska\n",
       "\u001b[1;36m999\u001b[0m    \u001b[1;36m54\u001b[0m        Hawaii\n",
       "\n",
       "\u001b[1m[\u001b[0m\u001b[1;36m1000\u001b[0m rows x \u001b[1;36m2\u001b[0m columns\u001b[1m]\u001b[0m\n"
      ]
     },
     "metadata": {},
     "output_type": "display_data"
    }
   ],
   "source": [
    "rank_states = cityDf[['rank','state']]\n",
    "print(rank_states)"
   ]
  },
  {
   "cell_type": "markdown",
   "metadata": {},
   "source": [
    "### Filtering Rows\n",
    "\n",
    "<img src=\"./images/04_subset_rows.png\" width=\"600\">\n",
    "\n",
    "We can also filter rows in a data frame. Below is a simple example, but notice the results:"
   ]
  },
  {
   "cell_type": "code",
   "execution_count": 51,
   "metadata": {},
   "outputs": [
    {
     "data": {
      "text/html": [
       "<pre style=\"white-space:pre;overflow-x:auto;line-height:normal;font-family:Menlo,'DejaVu Sans Mono',consolas,'Courier New',monospace\"><span style=\"color: #008080; text-decoration-color: #008080; font-weight: bold\">0</span>       <span style=\"color: #00ff00; text-decoration-color: #00ff00; font-style: italic\">True</span>\n",
       "<span style=\"color: #008080; text-decoration-color: #008080; font-weight: bold\">1</span>       <span style=\"color: #00ff00; text-decoration-color: #00ff00; font-style: italic\">True</span>\n",
       "<span style=\"color: #008080; text-decoration-color: #008080; font-weight: bold\">2</span>       <span style=\"color: #00ff00; text-decoration-color: #00ff00; font-style: italic\">True</span>\n",
       "<span style=\"color: #008080; text-decoration-color: #008080; font-weight: bold\">3</span>       <span style=\"color: #00ff00; text-decoration-color: #00ff00; font-style: italic\">True</span>\n",
       "<span style=\"color: #008080; text-decoration-color: #008080; font-weight: bold\">4</span>       <span style=\"color: #00ff00; text-decoration-color: #00ff00; font-style: italic\">True</span>\n",
       "       <span style=\"color: #808000; text-decoration-color: #808000\">...</span>  \n",
       "<span style=\"color: #008080; text-decoration-color: #008080; font-weight: bold\">995</span>    <span style=\"color: #ff0000; text-decoration-color: #ff0000; font-style: italic\">False</span>\n",
       "<span style=\"color: #008080; text-decoration-color: #008080; font-weight: bold\">996</span>    <span style=\"color: #ff0000; text-decoration-color: #ff0000; font-style: italic\">False</span>\n",
       "<span style=\"color: #008080; text-decoration-color: #008080; font-weight: bold\">997</span>    <span style=\"color: #ff0000; text-decoration-color: #ff0000; font-style: italic\">False</span>\n",
       "<span style=\"color: #008080; text-decoration-color: #008080; font-weight: bold\">998</span>    <span style=\"color: #ff0000; text-decoration-color: #ff0000; font-style: italic\">False</span>\n",
       "<span style=\"color: #008080; text-decoration-color: #008080; font-weight: bold\">999</span>    <span style=\"color: #ff0000; text-decoration-color: #ff0000; font-style: italic\">False</span>\n",
       "Name: population, Length: <span style=\"color: #008080; text-decoration-color: #008080; font-weight: bold\">1000</span>, dtype: bool\n",
       "</pre>\n"
      ],
      "text/plain": [
       "\u001b[1;36m0\u001b[0m       \u001b[3;92mTrue\u001b[0m\n",
       "\u001b[1;36m1\u001b[0m       \u001b[3;92mTrue\u001b[0m\n",
       "\u001b[1;36m2\u001b[0m       \u001b[3;92mTrue\u001b[0m\n",
       "\u001b[1;36m3\u001b[0m       \u001b[3;92mTrue\u001b[0m\n",
       "\u001b[1;36m4\u001b[0m       \u001b[3;92mTrue\u001b[0m\n",
       "       \u001b[33m...\u001b[0m  \n",
       "\u001b[1;36m995\u001b[0m    \u001b[3;91mFalse\u001b[0m\n",
       "\u001b[1;36m996\u001b[0m    \u001b[3;91mFalse\u001b[0m\n",
       "\u001b[1;36m997\u001b[0m    \u001b[3;91mFalse\u001b[0m\n",
       "\u001b[1;36m998\u001b[0m    \u001b[3;91mFalse\u001b[0m\n",
       "\u001b[1;36m999\u001b[0m    \u001b[3;91mFalse\u001b[0m\n",
       "Name: population, Length: \u001b[1;36m1000\u001b[0m, dtype: bool\n"
      ]
     },
     "metadata": {},
     "output_type": "display_data"
    }
   ],
   "source": [
    "big = cityDf[\"population\"] > 1500000\n",
    "\n",
    "print(big)"
   ]
  },
  {
   "cell_type": "markdown",
   "metadata": {},
   "source": [
    "It gives simply a result of true or false for every row in the dataFrame. If you want to see the actual results, you can do the following:"
   ]
  },
  {
   "cell_type": "code",
   "execution_count": 52,
   "metadata": {},
   "outputs": [
    {
     "data": {
      "text/html": [
       "<pre style=\"white-space:pre;overflow-x:auto;line-height:normal;font-family:Menlo,'DejaVu Sans Mono',consolas,'Courier New',monospace\">   rank         state          city   latitude   longitude  population  growth\n",
       "<span style=\"color: #008080; text-decoration-color: #008080; font-weight: bold\">0</span>     <span style=\"color: #008080; text-decoration-color: #008080; font-weight: bold\">1</span>      New York      New York  <span style=\"color: #008080; text-decoration-color: #008080; font-weight: bold\">40.712784</span>  <span style=\"color: #008080; text-decoration-color: #008080; font-weight: bold\">-74.005941</span>     <span style=\"color: #008080; text-decoration-color: #008080; font-weight: bold\">8405837</span>     <span style=\"color: #008080; text-decoration-color: #008080; font-weight: bold\">4.8</span>\n",
       "<span style=\"color: #008080; text-decoration-color: #008080; font-weight: bold\">1</span>     <span style=\"color: #008080; text-decoration-color: #008080; font-weight: bold\">2</span>    California   Los Angeles  <span style=\"color: #008080; text-decoration-color: #008080; font-weight: bold\">34.052234</span> <span style=\"color: #008080; text-decoration-color: #008080; font-weight: bold\">-118.243685</span>     <span style=\"color: #008080; text-decoration-color: #008080; font-weight: bold\">3884307</span>     <span style=\"color: #008080; text-decoration-color: #008080; font-weight: bold\">4.8</span>\n",
       "<span style=\"color: #008080; text-decoration-color: #008080; font-weight: bold\">2</span>     <span style=\"color: #008080; text-decoration-color: #008080; font-weight: bold\">3</span>      Illinois       Chicago  <span style=\"color: #008080; text-decoration-color: #008080; font-weight: bold\">41.878114</span>  <span style=\"color: #008080; text-decoration-color: #008080; font-weight: bold\">-87.629798</span>     <span style=\"color: #008080; text-decoration-color: #008080; font-weight: bold\">2718782</span>    <span style=\"color: #008080; text-decoration-color: #008080; font-weight: bold\">-6.1</span>\n",
       "<span style=\"color: #008080; text-decoration-color: #008080; font-weight: bold\">3</span>     <span style=\"color: #008080; text-decoration-color: #008080; font-weight: bold\">4</span>         Texas       Houston  <span style=\"color: #008080; text-decoration-color: #008080; font-weight: bold\">29.760427</span>  <span style=\"color: #008080; text-decoration-color: #008080; font-weight: bold\">-95.369803</span>     <span style=\"color: #008080; text-decoration-color: #008080; font-weight: bold\">2195914</span>    <span style=\"color: #008080; text-decoration-color: #008080; font-weight: bold\">11.0</span>\n",
       "<span style=\"color: #008080; text-decoration-color: #008080; font-weight: bold\">4</span>     <span style=\"color: #008080; text-decoration-color: #008080; font-weight: bold\">5</span>  Pennsylvania  Philadelphia  <span style=\"color: #008080; text-decoration-color: #008080; font-weight: bold\">39.952584</span>  <span style=\"color: #008080; text-decoration-color: #008080; font-weight: bold\">-75.165222</span>     <span style=\"color: #008080; text-decoration-color: #008080; font-weight: bold\">1553165</span>     <span style=\"color: #008080; text-decoration-color: #008080; font-weight: bold\">2.6</span>\n",
       "<span style=\"color: #008080; text-decoration-color: #008080; font-weight: bold\">5</span>     <span style=\"color: #008080; text-decoration-color: #008080; font-weight: bold\">6</span>       Arizona       Phoenix  <span style=\"color: #008080; text-decoration-color: #008080; font-weight: bold\">33.448377</span> <span style=\"color: #008080; text-decoration-color: #008080; font-weight: bold\">-112.074037</span>     <span style=\"color: #008080; text-decoration-color: #008080; font-weight: bold\">1513367</span>    <span style=\"color: #008080; text-decoration-color: #008080; font-weight: bold\">14.0</span>\n",
       "</pre>\n"
      ],
      "text/plain": [
       "   rank         state          city   latitude   longitude  population  growth\n",
       "\u001b[1;36m0\u001b[0m     \u001b[1;36m1\u001b[0m      New York      New York  \u001b[1;36m40.712784\u001b[0m  \u001b[1;36m-74.005941\u001b[0m     \u001b[1;36m8405837\u001b[0m     \u001b[1;36m4.8\u001b[0m\n",
       "\u001b[1;36m1\u001b[0m     \u001b[1;36m2\u001b[0m    California   Los Angeles  \u001b[1;36m34.052234\u001b[0m \u001b[1;36m-118.243685\u001b[0m     \u001b[1;36m3884307\u001b[0m     \u001b[1;36m4.8\u001b[0m\n",
       "\u001b[1;36m2\u001b[0m     \u001b[1;36m3\u001b[0m      Illinois       Chicago  \u001b[1;36m41.878114\u001b[0m  \u001b[1;36m-87.629798\u001b[0m     \u001b[1;36m2718782\u001b[0m    \u001b[1;36m-6.1\u001b[0m\n",
       "\u001b[1;36m3\u001b[0m     \u001b[1;36m4\u001b[0m         Texas       Houston  \u001b[1;36m29.760427\u001b[0m  \u001b[1;36m-95.369803\u001b[0m     \u001b[1;36m2195914\u001b[0m    \u001b[1;36m11.0\u001b[0m\n",
       "\u001b[1;36m4\u001b[0m     \u001b[1;36m5\u001b[0m  Pennsylvania  Philadelphia  \u001b[1;36m39.952584\u001b[0m  \u001b[1;36m-75.165222\u001b[0m     \u001b[1;36m1553165\u001b[0m     \u001b[1;36m2.6\u001b[0m\n",
       "\u001b[1;36m5\u001b[0m     \u001b[1;36m6\u001b[0m       Arizona       Phoenix  \u001b[1;36m33.448377\u001b[0m \u001b[1;36m-112.074037\u001b[0m     \u001b[1;36m1513367\u001b[0m    \u001b[1;36m14.0\u001b[0m\n"
      ]
     },
     "metadata": {},
     "output_type": "display_data"
    }
   ],
   "source": [
    "\n",
    "big = cityDf[cityDf[\"population\"] > 1500000]\n",
    "\n",
    "print(big)"
   ]
  },
  {
   "cell_type": "markdown",
   "metadata": {},
   "source": [
    "## Plotting DataFrames\n",
    "\n",
    "- https://jonathansoma.com/lede/algorithms-2017/classes/fuzziness-matplotlib/understand-df-plot-in-pandas/\n",
    "- https://pandas.pydata.org/docs/getting_started/intro_tutorials/04_plotting.html#"
   ]
  },
  {
   "cell_type": "code",
   "execution_count": 57,
   "metadata": {},
   "outputs": [
    {
     "data": {
      "text/plain": [
       "<AxesSubplot:xlabel='rank', ylabel='growth'>"
      ]
     },
     "execution_count": 57,
     "metadata": {},
     "output_type": "execute_result"
    },
    {
     "data": {
      "image/png": "[encoded data removed]",
      "text/plain": [
       "<Figure size 432x288 with 1 Axes>"
      ]
     },
     "metadata": {
      "needs_background": "light"
     },
     "output_type": "display_data"
    }
   ],
   "source": [
    "import matplotlib.pyplot as plt\n",
    "\n",
    "#cityDf.plot(x='population', y='rank',kind='bar')\n",
    "cityDf.plot.scatter(x=\"rank\", y=\"growth\", alpha=0.5)\n"
   ]
  },
  {
   "cell_type": "markdown",
   "metadata": {},
   "source": [
    "Ok, so we have done a crash course about `DataFrames` but we haven't scratched the surface (yet). To read much more, but still condensed you can go here: https://pandas.pydata.org/docs/getting_started/intro_tutorials/01_table_oriented.html"
   ]
  }
 ],
 "metadata": {
  "interpreter": {
   "hash": "aee8b7b246df8f9039afb4144a1f6fd8d2ca17a180786b69acc140d282b71a49"
  },
  "kernelspec": {
   "display_name": "Python 3 (ipykernel)",
   "language": "python",
   "name": "python3"
  },
  "language_info": {
   "codemirror_mode": {
    "name": "ipython",
    "version": 3
   },
   "file_extension": ".py",
   "mimetype": "text/x-python",
   "name": "python",
   "nbconvert_exporter": "python",
   "pygments_lexer": "ipython3",
   "version": "3.9.2"
  }
 },
 "nbformat": 4,
 "nbformat_minor": 2
}
